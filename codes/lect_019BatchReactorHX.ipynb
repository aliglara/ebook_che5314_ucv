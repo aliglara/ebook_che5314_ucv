{
 "cells": [
  {
   "cell_type": "code",
   "execution_count": 1,
   "id": "alpine-collector",
   "metadata": {},
   "outputs": [],
   "source": [
    "import numpy as np\n",
    "import matplotlib.pyplot as plt\n",
    "from scipy.integrate import solve_ivp"
   ]
  },
  {
   "cell_type": "code",
   "execution_count": 2,
   "id": "selective-amplifier",
   "metadata": {},
   "outputs": [],
   "source": [
    "plt.style.use('fivethirtyeight')"
   ]
  },
  {
   "cell_type": "markdown",
   "id": "legal-spectrum",
   "metadata": {},
   "source": [
    "# Auxiliar functions"
   ]
  },
  {
   "cell_type": "code",
   "execution_count": 3,
   "id": "grave-reality",
   "metadata": {},
   "outputs": [],
   "source": [
    "def system(t, y, parameters):\n",
    "    xa, temp = y\n",
    "    Thx, Uhx, band = parameters \n",
    "    \n",
    "    if (band == 0) or (band==2):\n",
    "        # only heat exchanger\n",
    "        k = 0\n",
    "        Q = Uhx * A * (Thx - temp)\n",
    "        Qr = 0\n",
    "    elif band == 1:\n",
    "        # only reaction - adiabatic mode\n",
    "        k = 4e6 * np.exp(-7900/temp)\n",
    "        Q = 0\n",
    "        Qr = - DHr * MA * Cao * k * (1 - xa) * Vr\n",
    "    elif band == 3:\n",
    "        # Reaction + heating\n",
    "        k = 4e6 * np.exp(-7900/temp)\n",
    "        Q = Uhx * A * (Thx - temp)\n",
    "        Qr = - DHr * MA * Cao * k * (1 - xa) * Vr\n",
    "    elif band == 4:\n",
    "        # only reaction - isothermal mode\n",
    "        k = 4e6 * np.exp(-7900/temp)\n",
    "        Q = 0\n",
    "        Qr = 0\n",
    "    \n",
    "    dxa_dt = k * (1 - xa) \n",
    "    dtemp_dt = (Q + Qr)/(Vr * rhoCp)\n",
    "    \n",
    "   \n",
    "    return [dxa_dt, dtemp_dt]\n",
    "\n",
    "def event(t, y, band):\n",
    "    if band == 0:\n",
    "        r = y[1] - Tfcal\n",
    "    elif band == 1:\n",
    "        r = y[0] - XAmax \n",
    "        if y[0] >= XAmax:\n",
    "            r = y[0] - XAmax \n",
    "        elif y[1] >= TmaxR:\n",
    "            r = y[1] - TmaxR \n",
    "    elif band == 2:\n",
    "        r = y[1] - Tfenf  \n",
    "    elif band == 3:\n",
    "        r = y[1] - TmaxR            \n",
    "    elif band == 4:\n",
    "        r = y[0] - XAmax\n",
    "    return r\n",
    "    "
   ]
  },
  {
   "cell_type": "markdown",
   "id": "direct-sarah",
   "metadata": {},
   "source": [
    "# Data"
   ]
  },
  {
   "cell_type": "code",
   "execution_count": 4,
   "id": "damaged-apple",
   "metadata": {},
   "outputs": [],
   "source": [
    "# Datos del sobre el intercambiador de calor\n",
    "Uc = 1180      # Coeficiente global para el enfriamiento, W/m^2 oC\n",
    "Us = 1360      # Coeficiente global para el calentamiento, W/m^2 oC\n",
    "A = 3.3         # Area de transferencia de calor, m^2\n",
    "Ts = 120 + 273.15       # Temperatura del vapor, oC\n",
    "Tc = 15 + 273.15        # Temperatura del agua de enfriamiento, oC\n",
    "#\n",
    "# Datos del fluido reaccionante\n",
    "rhoCp = 4.2e6                 # Propiedad del fluido reaccionante J/m^3/C\n",
    "MA = 100                     # Peso molecular de A, kg/kmol\n",
    "Cao = 1                      # Concentracion inicial de A, kmol/m^3\n",
    "DHr = -1.67e6                 # Calor de reaccion, J/kg\n",
    "#\n",
    "#Datos del reactor\n",
    "Vr = 5             # Volumen del reactor, m^3\n",
    "Tini = 20 + 273.15          # Temperatura inicial de fluido reaccionante, oC\n",
    "Tfcal = 55 + 273.15         # Temperatura final del calentamiento del fluido, oC\n",
    "TmaxR = 95 + 273.15         # Temperatura maxima de reaccion, oC\n",
    "XAmax = 0.9         # Conversion maxima permitida de A, adim\n",
    "Tfenf = 45 + 273.15         # Temperatura final de la mezcla reaccionante, oC"
   ]
  },
  {
   "cell_type": "markdown",
   "id": "endangered-mortgage",
   "metadata": {},
   "source": [
    "# Solution\n",
    "\n",
    "## Case I. First policy of operation\n",
    "\n",
    "### Step 1. Heating Up"
   ]
  },
  {
   "cell_type": "code",
   "execution_count": 5,
   "id": "martial-emerald",
   "metadata": {},
   "outputs": [],
   "source": [
    "tSpan = [0, 1e5]\n",
    "\n",
    "ic = [0, Tini] \n",
    "bandera = 0 \n",
    "p = [Ts, Us, bandera] \n",
    "\n",
    "fun_ode = lambda t, y: system(t, y, p)\n",
    "fun_events = lambda t, y: event(t, y, bandera)\n",
    "fun_events.terminal = True\n",
    "fun_events.direction = 0\n",
    "\n",
    "solution01 = solve_ivp(fun_ode, tSpan, ic, events=fun_events)"
   ]
  },
  {
   "cell_type": "code",
   "execution_count": 6,
   "id": "welsh-doctor",
   "metadata": {},
   "outputs": [
    {
     "name": "stdout",
     "output_type": "stream",
     "text": [
      "The required heating time to reach 55 oC is 2006.88 s\n"
     ]
    }
   ],
   "source": [
    "print('The required heating time to reach {:.0f} oC is {:.2f} s'.format(Tfcal - 273.15, solution01.t_events[0][0]))"
   ]
  },
  {
   "cell_type": "markdown",
   "id": "identical-calcium",
   "metadata": {},
   "source": [
    "### Step 2. Reaction under adiabatic restriction\n",
    "\n",
    "Stop Criteria: final conversion 90% or Reaction temperature 95 C"
   ]
  },
  {
   "cell_type": "code",
   "execution_count": 7,
   "id": "alpine-pearl",
   "metadata": {},
   "outputs": [],
   "source": [
    "ic = [0, Tfcal]\n",
    "bandera = 1\n",
    "\n",
    "p[-1] = bandera\n",
    "\n",
    "fun_ode = lambda t, y: system(t, y, p)\n",
    "fun_events = lambda t, y: event(t, y, bandera)\n",
    "fun_events.terminal = True\n",
    "fun_events.direction = 0\n",
    "\n",
    "solution02 = solve_ivp(fun_ode, tSpan, ic, events=fun_events)"
   ]
  },
  {
   "cell_type": "code",
   "execution_count": 8,
   "id": "young-animal",
   "metadata": {},
   "outputs": [
    {
     "name": "stdout",
     "output_type": "stream",
     "text": [
      "The required reaction time to reach 90.79 oC and 90.00% of conversion is 4063.99 s\n"
     ]
    }
   ],
   "source": [
    "print(('The required reaction time to reach {:.2f} oC and {:.2f}% of conversion is {:.2f} s'.format(\n",
    "      solution02.y_events[0][0][1]-273.15, solution02.y_events[0][0][0]*100, solution02.t_events[0][0])))"
   ]
  },
  {
   "cell_type": "markdown",
   "id": "passing-swing",
   "metadata": {},
   "source": [
    "### Step 3. Cooling until T = 45C"
   ]
  },
  {
   "cell_type": "code",
   "execution_count": 9,
   "id": "amino-bobby",
   "metadata": {},
   "outputs": [],
   "source": [
    "ic = solution02.y_events[0][0]\n",
    "bandera = 2\n",
    "p = [Tc, Uc, bandera]\n",
    "\n",
    "fun_ode = lambda t, y: system(t, y, p)\n",
    "fun_events = lambda t, y: event(t, y, bandera)\n",
    "fun_events.terminal = True\n",
    "fun_events.direction = 0\n",
    "\n",
    "solution03 = solve_ivp(fun_ode, tSpan, ic, events=fun_events)"
   ]
  },
  {
   "cell_type": "code",
   "execution_count": 10,
   "id": "driven-syntax",
   "metadata": {},
   "outputs": [
    {
     "name": "stdout",
     "output_type": "stream",
     "text": [
      "The required cooling time to reach 45 oC is 4954.70 s\n"
     ]
    }
   ],
   "source": [
    "print(('The required cooling time to reach {:.0f} oC is {:.2f} s'.format(\n",
    "    solution03.y_events[0][0][1]-273.15, solution03.t_events[0][0])))"
   ]
  },
  {
   "cell_type": "code",
   "execution_count": 11,
   "id": "unauthorized-college",
   "metadata": {},
   "outputs": [],
   "source": [
    "summary_y_part1 = np.hstack((solution01.y, solution02.y, solution03.y))"
   ]
  },
  {
   "cell_type": "code",
   "execution_count": 12,
   "id": "acting-nursery",
   "metadata": {},
   "outputs": [],
   "source": [
    "summary_time_part1 = np.hstack((solution01.t, \n",
    "                                solution02.t + solution01.t[-1], \n",
    "                                solution03.t + solution01.t[-1] + + solution02.t[-1]))"
   ]
  },
  {
   "cell_type": "code",
   "execution_count": 13,
   "id": "dress-cheese",
   "metadata": {
    "scrolled": false
   },
   "outputs": [
    {
     "data": {
      "image/png": "[encoded data removed]",
      "text/plain": [
       "<Figure size 504x432 with 2 Axes>"
      ]
     },
     "metadata": {},
     "output_type": "display_data"
    }
   ],
   "source": [
    "fig, ax1 = plt.subplots(figsize=(7,6))\n",
    "ax2 = ax1.twinx()\n",
    "line1 = ax1.plot(summary_time_part1/60, summary_y_part1[1]-273.15,\n",
    "                 color='red', label='Temperature')\n",
    "ax1.set_xlabel('Time (min)') \n",
    "ax1.set_ylabel('Temperature (C)', color='red')\n",
    "\n",
    "line2 = ax2.plot(summary_time_part1/60, summary_y_part1[0],\n",
    "                 ls='--', label='Conversion of A')\n",
    "ax2.set_ylabel('Conversion (adim)') \n",
    "ax2.set_ylim(0, 1)\n",
    "ax1.set_ylim(10, 100)\n",
    "\n",
    "lns = line1 + line2\n",
    "labs = [l.get_label() for l in lns]\n",
    "ax1.legend(lns, labs)\n",
    "\n",
    "plt.tight_layout()\n",
    "#fig.savefig('../figures/003_02_03.png')\n",
    "plt.show()"
   ]
  },
  {
   "cell_type": "markdown",
   "id": "convertible-alias",
   "metadata": {},
   "source": [
    "## Case II. Second policy of operation\n",
    "\n",
    "### Step 1. Heating Up plus reaction until T = 95C"
   ]
  },
  {
   "cell_type": "code",
   "execution_count": 14,
   "id": "analyzed-genius",
   "metadata": {},
   "outputs": [],
   "source": [
    "ic = [0, Tini] \n",
    "bandera = 3 \n",
    "p = [Ts, Us, bandera] \n",
    "\n",
    "fun_ode = lambda t, y: system(t, y, p)\n",
    "fun_events = lambda t, y: event(t, y, bandera)\n",
    "fun_events.terminal = True\n",
    "fun_events.direction = 0\n",
    "\n",
    "solution04 = solve_ivp(fun_ode, tSpan, ic, events=fun_events)"
   ]
  },
  {
   "cell_type": "code",
   "execution_count": 15,
   "id": "maritime-mills",
   "metadata": {},
   "outputs": [
    {
     "name": "stdout",
     "output_type": "stream",
     "text": [
      "The required reaction time to reach 95.00 oC and 67.85% of conversion is 3442.23 s\n"
     ]
    }
   ],
   "source": [
    "print(('The required reaction time to reach {:.2f} oC and {:.2f}% of conversion is {:.2f} s'.format(\n",
    "      solution04.y_events[0][0][1]-273.15, solution04.y_events[0][0][0]*100, solution04.t_events[0][0])))"
   ]
  },
  {
   "cell_type": "markdown",
   "id": "familiar-jonathan",
   "metadata": {},
   "source": [
    "### Step 2. Isothermal Reaction until 90% conversion"
   ]
  },
  {
   "cell_type": "code",
   "execution_count": 16,
   "id": "combined-rainbow",
   "metadata": {},
   "outputs": [],
   "source": [
    "ic = solution04.y_events[0][0] \n",
    "bandera = 4\n",
    "p[-1] = bandera \n",
    "\n",
    "fun_ode = lambda t, y: system(t, y, p)\n",
    "fun_events = lambda t, y: event(t, y, bandera)\n",
    "fun_events.terminal = True\n",
    "fun_events.direction = 0\n",
    "\n",
    "solution05 = solve_ivp(fun_ode, tSpan, ic, events=fun_events)"
   ]
  },
  {
   "cell_type": "code",
   "execution_count": 17,
   "id": "configured-repair",
   "metadata": {},
   "outputs": [
    {
     "name": "stdout",
     "output_type": "stream",
     "text": [
      "The required reaction time to reach at 95.00 oC a 90.00% of conversion is 608.66 s\n"
     ]
    }
   ],
   "source": [
    "print(('The required reaction time to reach at {:.2f} oC a {:.2f}% of conversion is {:.2f} s'.format(\n",
    "      solution05.y_events[0][0][1]-273.15, solution05.y_events[0][0][0]*100, solution05.t_events[0][0])))"
   ]
  },
  {
   "cell_type": "code",
   "execution_count": 18,
   "id": "broken-architect",
   "metadata": {},
   "outputs": [],
   "source": [
    "ic = solution05.y_events[0][0]\n",
    "bandera = 2\n",
    "p = [Tc, Uc, bandera]\n",
    "\n",
    "fun_ode = lambda t, y: system(t, y, p)\n",
    "fun_events = lambda t, y: event(t, y, bandera)\n",
    "fun_events.terminal = True\n",
    "fun_events.direction = 0\n",
    "\n",
    "solution06 = solve_ivp(fun_ode, tSpan, ic, events=fun_events)"
   ]
  },
  {
   "cell_type": "code",
   "execution_count": 19,
   "id": "stone-hometown",
   "metadata": {},
   "outputs": [
    {
     "name": "stdout",
     "output_type": "stream",
     "text": [
      "The required cooling time to reach 45 oC is 5253.71 s\n"
     ]
    }
   ],
   "source": [
    "print(('The required cooling time to reach {:.0f} oC is {:.2f} s'.format(\n",
    "    solution06.y_events[0][0][1]-273.15, solution06.t_events[0][0])))"
   ]
  },
  {
   "cell_type": "code",
   "execution_count": 20,
   "id": "compact-toyota",
   "metadata": {},
   "outputs": [],
   "source": [
    "summary_y_part2 = np.hstack((solution04.y, solution05.y, solution06.y))\n",
    "summary_time_part2 = np.hstack((solution04.t, \n",
    "                                solution05.t + solution04.t[-1], \n",
    "                                solution06.t + solution04.t[-1] + + solution05.t[-1]))"
   ]
  },
  {
   "cell_type": "code",
   "execution_count": 21,
   "id": "civilian-above",
   "metadata": {},
   "outputs": [
    {
     "data": {
      "image/png": "[encoded data removed]",
      "text/plain": [
       "<Figure size 504x432 with 2 Axes>"
      ]
     },
     "metadata": {},
     "output_type": "display_data"
    }
   ],
   "source": [
    "fig, ax1 = plt.subplots(figsize=(7,6))\n",
    "ax2 = ax1.twinx()\n",
    "line1 = ax1.plot(summary_time_part2/60, summary_y_part2[1]-273.15,\n",
    "                 color='red', label='Temperature')\n",
    "ax1.set_xlabel('Time (min)') \n",
    "ax1.set_ylabel('Temperature (C)', color='red')\n",
    "\n",
    "line2 = ax2.plot(summary_time_part2/60, summary_y_part2[0],\n",
    "                 ls='--', label='Conversion of A')\n",
    "ax2.set_ylabel('Conversion (adim)') \n",
    "ax2.set_ylim(0, 1)\n",
    "ax1.set_ylim(10, 100)\n",
    "\n",
    "lns = line1 + line2\n",
    "labs = [l.get_label() for l in lns]\n",
    "ax1.legend(lns, labs, loc=4)\n",
    "\n",
    "plt.tight_layout()\n",
    "plt.show()"
   ]
  }
 ],
 "metadata": {
  "kernelspec": {
   "display_name": "Python 3",
   "language": "python",
   "name": "python3"
  },
  "language_info": {
   "codemirror_mode": {
    "name": "ipython",
    "version": 3
   },
   "file_extension": ".py",
   "mimetype": "text/x-python",
   "name": "python",
   "nbconvert_exporter": "python",
   "pygments_lexer": "ipython3",
   "version": "3.8.5"
  },
  "varInspector": {
   "cols": {
    "lenName": 16,
    "lenType": 16,
    "lenVar": 40
   },
   "kernels_config": {
    "python": {
     "delete_cmd_postfix": "",
     "delete_cmd_prefix": "del ",
     "library": "var_list.py",
     "varRefreshCmd": "print(var_dic_list())"
    },
    "r": {
     "delete_cmd_postfix": ") ",
     "delete_cmd_prefix": "rm(",
     "library": "var_list.r",
     "varRefreshCmd": "cat(var_dic_list()) "
    }
   },
   "types_to_exclude": [
    "module",
    "function",
    "builtin_function_or_method",
    "instance",
    "_Feature"
   ],
   "window_display": false
  }
 },
 "nbformat": 4,
 "nbformat_minor": 5
}
