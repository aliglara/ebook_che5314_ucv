{
 "cells": [
  {
   "cell_type": "markdown",
   "id": "greatest-transaction",
   "metadata": {},
   "source": [
    "                                                     \n",
    " \n",
    "  Problem taken from Luyben\n",
    " \n",
    "  Author\n",
    "  Ali Gabriel Lara\n",
    " \n",
    "  Date: May 2014\n",
    "  Revision: None\n",
    " \n"
   ]
  },
  {
   "cell_type": "code",
   "execution_count": 1,
   "id": "green-denver",
   "metadata": {},
   "outputs": [],
   "source": [
    "import numpy as np\n",
    "import matplotlib.pyplot as plt\n",
    "import pandas as pd\n",
    "from scipy.optimize import fsolve"
   ]
  },
  {
   "cell_type": "code",
   "execution_count": 2,
   "id": "timely-manchester",
   "metadata": {},
   "outputs": [],
   "source": [
    "plt.style.use('fivethirtyeight')"
   ]
  },
  {
   "cell_type": "code",
   "execution_count": 3,
   "id": "numerous-strap",
   "metadata": {},
   "outputs": [],
   "source": [
    "def system(x, p):\n",
    "    ca, cb, cc, cd = x\n",
    "    vr, kf, kr, fao, cao, fbo, cbo = p\n",
    "\n",
    "    ft = fao + fbo \n",
    "\n",
    "    rf = kf*ca*cb \n",
    "    rr = kr*cc*cd \n",
    "    R = rf - rr\n",
    "    \n",
    "    ca = fao*cao - ft*ca - vr*R \n",
    "    cb = fbo*cbo - ft*cb - vr*R \n",
    "    cc = ft*cc + vr*(-R) \n",
    "    cd = ft*cd + vr*(-R) \n",
    "    return [ca, cb, cc, cd]"
   ]
  },
  {
   "cell_type": "code",
   "execution_count": 4,
   "id": "previous-actor",
   "metadata": {},
   "outputs": [],
   "source": [
    "fao = 4.377e-3      # Flujo de alimentacion de A , m^3/s\n",
    "cao = 8.01          # Concentracion inicial de A , kmol/m^3\n",
    "fbo = 4.377e-3      # Flujo de alimentacion de B , m^3/s\n",
    "cbo = 8.01          # Concentracion inicial de B , kmol/m^3\n",
    "kof = 4.239e6       # Factor preexponencial de reaccion forward, m^3/s/kmol\n",
    "kor = 3.631e16      # Factor preexponencial de reaccion inversa, m^3/s/kmol\n",
    "Ef = 69.71e6        # Energia de activacion de reaccion forward, J/kmol\n",
    "Er = 139.4e6        # Energia de activacion de reaccion inversa, J/kmol\n",
    "\n",
    "# Initial conditions for Ca, Cb, Cc, Cd\n",
    "xo = [2, 2, 2, 2]\n",
    "\n",
    "ft = fao + fbo \n",
    "Tini = 300         # Initial tempeture\n",
    "Tfin = 400         # Final tempeture \n",
    "\n",
    "Temperatures = np.linspace(Tini, Tfin, 100) \n",
    "Volumes = [50, 100, 200]      # Reactor volumes"
   ]
  },
  {
   "cell_type": "code",
   "execution_count": 5,
   "id": "cubic-bahrain",
   "metadata": {},
   "outputs": [],
   "source": [
    "Conv = []\n",
    "for volume in Volumes:\n",
    "    for temperature in Temperatures:\n",
    "        kf = kof * np.exp(-Ef/temperature/8314) \n",
    "        kr = kor * np.exp(-Er/temperature/8314) \n",
    "        \n",
    "        parameters = [volume, kf, kr, fao, cao, fbo, cbo] \n",
    "\n",
    "        ca, cb, cc, cd = fsolve(system, xo, args=(parameters,)) \n",
    "        Xa = (fao * cao - ft*ca)/(fao*cao) \n",
    "        Conv.append(Xa)  "
   ]
  },
  {
   "cell_type": "code",
   "execution_count": 6,
   "id": "comic-charm",
   "metadata": {},
   "outputs": [],
   "source": [
    "Conv = np.array(Conv).reshape(len(Temperatures), len(Volumes), order='F')\n",
    "XaMax = np.amax(Conv, axis=0)\n",
    "Tmax = Temperatures[np.argmax(Conv, axis=0)]"
   ]
  },
  {
   "cell_type": "code",
   "execution_count": 7,
   "id": "comfortable-toner",
   "metadata": {},
   "outputs": [
    {
     "data": {
      "text/html": [
       "<div>\n",
       "<style scoped>\n",
       "    .dataframe tbody tr th:only-of-type {\n",
       "        vertical-align: middle;\n",
       "    }\n",
       "\n",
       "    .dataframe tbody tr th {\n",
       "        vertical-align: top;\n",
       "    }\n",
       "\n",
       "    .dataframe thead th {\n",
       "        text-align: right;\n",
       "    }\n",
       "</style>\n",
       "<table border=\"1\" class=\"dataframe\">\n",
       "  <thead>\n",
       "    <tr style=\"text-align: right;\">\n",
       "      <th></th>\n",
       "      <th>Reactor Volume (m3)</th>\n",
       "      <th>Conversion</th>\n",
       "      <th>Temperature (K)</th>\n",
       "    </tr>\n",
       "  </thead>\n",
       "  <tbody>\n",
       "    <tr>\n",
       "      <th>0</th>\n",
       "      <td>50.0</td>\n",
       "      <td>0.524180</td>\n",
       "      <td>352.525253</td>\n",
       "    </tr>\n",
       "    <tr>\n",
       "      <th>1</th>\n",
       "      <td>100.0</td>\n",
       "      <td>0.572495</td>\n",
       "      <td>347.474747</td>\n",
       "    </tr>\n",
       "    <tr>\n",
       "      <th>2</th>\n",
       "      <td>200.0</td>\n",
       "      <td>0.618895</td>\n",
       "      <td>341.414141</td>\n",
       "    </tr>\n",
       "  </tbody>\n",
       "</table>\n",
       "</div>"
      ],
      "text/plain": [
       "   Reactor Volume (m3)  Conversion  Temperature (K)\n",
       "0                 50.0    0.524180       352.525253\n",
       "1                100.0    0.572495       347.474747\n",
       "2                200.0    0.618895       341.414141"
      ]
     },
     "execution_count": 7,
     "metadata": {},
     "output_type": "execute_result"
    }
   ],
   "source": [
    "pd.DataFrame(np.vstack((Volumes, XaMax, Tmax)).T, \n",
    "             columns=['Reactor Volume (m3)', 'Conversion', 'Temperature (K)'])"
   ]
  },
  {
   "cell_type": "code",
   "execution_count": 8,
   "id": "pleased-alarm",
   "metadata": {},
   "outputs": [
    {
     "data": {
      "image/png": "[encoded data removed]",
      "text/plain": [
       "<Figure size 432x360 with 1 Axes>"
      ]
     },
     "metadata": {},
     "output_type": "display_data"
    }
   ],
   "source": [
    "labels = ['50 m$^3$', '100 m$^3$', '200 m$^3$']\n",
    "lss = ['-', ':', '-.']\n",
    "\n",
    "fig, ax = plt.subplots(figsize=(6, 5))\n",
    "for i, (label, ls) in enumerate(zip(labels, lss)):\n",
    "    ax.plot(Temperatures, Conv[:,i], label=label, ls=ls)\n",
    "\n",
    "ax.set_xlabel('Temperature (K)') \n",
    "ax.set_ylabel('Fractional conversion $X_A$') \n",
    "plt.legend(loc=0, title_fontsize='small')\n",
    "plt.tight_layout()\n",
    "plt.show()\n"
   ]
  },
  {
   "cell_type": "code",
   "execution_count": null,
   "id": "weekly-jenny",
   "metadata": {},
   "outputs": [],
   "source": []
  }
 ],
 "metadata": {
  "kernelspec": {
   "display_name": "Python 3",
   "language": "python",
   "name": "python3"
  },
  "language_info": {
   "codemirror_mode": {
    "name": "ipython",
    "version": 3
   },
   "file_extension": ".py",
   "mimetype": "text/x-python",
   "name": "python",
   "nbconvert_exporter": "python",
   "pygments_lexer": "ipython3",
   "version": "3.8.8"
  },
  "varInspector": {
   "cols": {
    "lenName": 16,
    "lenType": 16,
    "lenVar": 40
   },
   "kernels_config": {
    "python": {
     "delete_cmd_postfix": "",
     "delete_cmd_prefix": "del ",
     "library": "var_list.py",
     "varRefreshCmd": "print(var_dic_list())"
    },
    "r": {
     "delete_cmd_postfix": ") ",
     "delete_cmd_prefix": "rm(",
     "library": "var_list.r",
     "varRefreshCmd": "cat(var_dic_list()) "
    }
   },
   "position": {
    "height": "405px",
    "left": "1537px",
    "right": "20px",
    "top": "115px",
    "width": "414px"
   },
   "types_to_exclude": [
    "module",
    "function",
    "builtin_function_or_method",
    "instance",
    "_Feature"
   ],
   "window_display": true
  }
 },
 "nbformat": 4,
 "nbformat_minor": 5
}
