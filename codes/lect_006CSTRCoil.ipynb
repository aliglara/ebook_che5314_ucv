{
 "cells": [
  {
   "cell_type": "markdown",
   "id": "likely-ozone",
   "metadata": {},
   "source": [
    "Problema based on an exercise taken from Luyben and Hill\n",
    "\n",
    " Author\n",
    " Prof. Ali Gabriel Lara\n",
    "\n",
    " April 2014\n",
    " Revision: None"
   ]
  },
  {
   "cell_type": "code",
   "execution_count": 1,
   "id": "incoming-vertex",
   "metadata": {},
   "outputs": [],
   "source": [
    "import numpy as np\n",
    "import math\n",
    "from scipy.optimize import fsolve, fmin"
   ]
  },
  {
   "cell_type": "code",
   "execution_count": 2,
   "id": "portuguese-andorra",
   "metadata": {},
   "outputs": [],
   "source": [
    "def diameterfun(dguess, params, fun_out=False):\n",
    "    vr, dcoil = params\n",
    "    lvessel = 2 * dguess\n",
    "    nloops = math.ceil(lvessel/2/dcoil)\n",
    "    lcoil = 0.8 * dguess * np.pi * nloops\n",
    "    vcoil = lcoil * np.pi * (dcoil**2)/4\n",
    "    vtot = vr + vcoil\n",
    "    dvessel = (2 * vtot/np.pi)**0.3333\n",
    "    if fun_out:\n",
    "        return [lcoil, nloops, vtot, vcoil]\n",
    "    else:\n",
    "        return dvessel - dguess\n",
    "\n",
    "def temperaturefun(tcout, params, fun_out=False):\n",
    "    tcin, tr, acoil, u, qr = params\n",
    "\n",
    "    delta_temp_in = tr - tcin\n",
    "    delta_temp_out = tr - tcout\n",
    "    dtml = (delta_temp_in-delta_temp_out) / np.log((delta_temp_in)/abs(delta_temp_out))\n",
    "    qcal = u * acoil * dtml\n",
    "    if fun_out:\n",
    "        return dtml\n",
    "    else:\n",
    "        return abs(qcal - qr)"
   ]
  },
  {
   "cell_type": "code",
   "execution_count": 3,
   "id": "sunset-bernard",
   "metadata": {},
   "outputs": [],
   "source": [
    "Tcin = 343                 # K\n",
    "U = 100                    # W/m^2-K\n",
    "Cpj = 4183                  # J/kg-K\n",
    "Dcoil = 0.015875           # m\n",
    "\n",
    "Tr = 163 + 273.15           # K\n",
    "Vr = 5.825132               # m^3\n",
    "Qr = 1.1687e7/3600*4.1868   # J/s"
   ]
  },
  {
   "cell_type": "markdown",
   "id": "challenging-grace",
   "metadata": {},
   "source": [
    "# Internal coil diameter"
   ]
  },
  {
   "cell_type": "code",
   "execution_count": 4,
   "id": "flush-lawyer",
   "metadata": {},
   "outputs": [],
   "source": [
    "dguess = (2 * Vr / np.pi)**0.333\n",
    "\n",
    "parameters = [Vr, Dcoil]\n",
    "Dr = fsolve(lambda x: diameterfun(x, parameters), dguess)"
   ]
  },
  {
   "cell_type": "code",
   "execution_count": 5,
   "id": "fossil-aaron",
   "metadata": {},
   "outputs": [],
   "source": [
    "[Lcoil, Nloops, Vtot, Vcoil] = diameterfun(Dr[0], parameters, fun_out=True)\n",
    "Acoil = np.pi*Dcoil*Lcoil"
   ]
  },
  {
   "cell_type": "code",
   "execution_count": 6,
   "id": "associate-venue",
   "metadata": {},
   "outputs": [
    {
     "name": "stdout",
     "output_type": "stream",
     "text": [
      "Reactor size parameters including coil heat exchanger:\n",
      "Reactor diameter: 1.55 m\n",
      "Reactor volume: 6.0 m\n",
      "\n",
      "\n",
      "Coil heat exchanger parameters:\n",
      "Transfer area: 19.09 m^2\n",
      "Number of loops: 98\n",
      "Coil volume: 0.08 m^3\n",
      "Coil length: 382.87 m\n"
     ]
    }
   ],
   "source": [
    "print('Reactor size parameters including coil heat exchanger:')\n",
    "print('Reactor diameter: {:1.2f} m'.format(Dr[0]))\n",
    "print('Reactor volume: {:1.1f} m'.format(math.ceil(Vtot)))\n",
    "print('\\n')\n",
    "\n",
    "print('Coil heat exchanger parameters:')\n",
    "print('Transfer area: {:1.2f} m^2'.format(Acoil))\n",
    "print('Number of loops: {:1.0f}'.format(Nloops))\n",
    "print('Coil volume: {:1.2f} m^3'.format(Vcoil))\n",
    "print('Coil length: {:1.2f} m'.format(Lcoil))"
   ]
  },
  {
   "cell_type": "markdown",
   "id": "floral-premiere",
   "metadata": {},
   "source": [
    "# Output temperature of the heat-exchanger fluid"
   ]
  },
  {
   "cell_type": "code",
   "execution_count": 7,
   "id": "hairy-permission",
   "metadata": {},
   "outputs": [],
   "source": [
    "Tcout_seed = 0.9*Tr\n",
    "delta_temp_in = Tr - Tcin\n",
    "delta_temp_out = Tr - Tcout_seed"
   ]
  },
  {
   "cell_type": "code",
   "execution_count": 8,
   "id": "expired-protocol",
   "metadata": {},
   "outputs": [
    {
     "name": "stdout",
     "output_type": "stream",
     "text": [
      "Optimization terminated successfully.\n",
      "         Current function value: 0.002211\n",
      "         Iterations: 41\n",
      "         Function evaluations: 83\n"
     ]
    }
   ],
   "source": [
    "Tcout_seed = 300\n",
    "\n",
    "parameters = [Tcin, Tr, Acoil, U, Qr]\n",
    "Tcout = fmin(lambda x: temperaturefun(x, parameters), Tcout_seed, ftol=0.001)"
   ]
  },
  {
   "cell_type": "code",
   "execution_count": 9,
   "id": "virgin-thumb",
   "metadata": {},
   "outputs": [],
   "source": [
    "Fcoil = Qr/(Cpj*(Tcout[0]-Tcin))\n",
    "Fcoil = Fcoil/0.001\n",
    "\n",
    "DTLM = temperaturefun(Tcout[0], parameters, fun_out=True)"
   ]
  },
  {
   "cell_type": "code",
   "execution_count": 10,
   "id": "powered-birthday",
   "metadata": {},
   "outputs": [
    {
     "name": "stdout",
     "output_type": "stream",
     "text": [
      "Cooling fluid parameters:\n",
      "Exit temperature : 436.15 K\n",
      "Log-mean temperature difference : 7.12 K\n",
      "Coolant flowrate : 34.88 cm^3/s\n"
     ]
    }
   ],
   "source": [
    "print('Cooling fluid parameters:')\n",
    "print('Exit temperature : {:1.2f} K'.format(Tcout[0]))\n",
    "print('Log-mean temperature difference : {:1.2f} K'.format(DTLM))\n",
    "print('Coolant flowrate : {:1.2f} cm^3/s'.format(Fcoil))"
   ]
  }
 ],
 "metadata": {
  "kernelspec": {
   "display_name": "Python [conda env:tensorflow]",
   "language": "python",
   "name": "conda-env-tensorflow-py"
  },
  "language_info": {
   "codemirror_mode": {
    "name": "ipython",
    "version": 3
   },
   "file_extension": ".py",
   "mimetype": "text/x-python",
   "name": "python",
   "nbconvert_exporter": "python",
   "pygments_lexer": "ipython3",
   "version": "3.8.5"
  },
  "toc": {
   "base_numbering": 1,
   "nav_menu": {},
   "number_sections": true,
   "sideBar": true,
   "skip_h1_title": true,
   "title_cell": "Table of Contents",
   "title_sidebar": "Contents",
   "toc_cell": false,
   "toc_position": {},
   "toc_section_display": true,
   "toc_window_display": false
  }
 },
 "nbformat": 4,
 "nbformat_minor": 5
}
