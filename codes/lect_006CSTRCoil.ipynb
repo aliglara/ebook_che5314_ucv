{
 "cells": [
  {
   "cell_type": "markdown",
   "id": "likely-ozone",
   "metadata": {},
   "source": [
    "Problema based on an exercise taken from Luyben and Hill\n",
    "\n",
    " Author\n",
    " Prof. Ali Gabriel Lara\n",
    "\n",
    " April 2014\n",
    " Revision: None"
   ]
  },
  {
   "cell_type": "code",
   "execution_count": 1,
   "id": "incoming-vertex",
   "metadata": {},
   "outputs": [],
   "source": [
    "import numpy as np\n",
    "import math\n",
    "from scipy.optimize import fsolve"
   ]
  },
  {
   "cell_type": "code",
   "execution_count": 2,
   "id": "portuguese-andorra",
   "metadata": {},
   "outputs": [],
   "source": [
    "def diameterfun(dguess, params, fun_out=False):\n",
    "    vr, dcoil = params\n",
    "    lvessel = 2 * dguess\n",
    "    nloops = math.ceil(lvessel/2/dcoil)\n",
    "    lcoil = 0.8 * dguess * np.pi * nloops\n",
    "    vcoil = lcoil * np.pi * (dcoil**2)/4\n",
    "    vtot = vr + vcoil\n",
    "    dvessel = (2 * vtot/np.pi)**0.3333\n",
    "    if fun_out:\n",
    "        return [lcoil, nloops, vtot, vcoil]\n",
    "    else:\n",
    "        return abs(dvessel - dguess)\n",
    "\n",
    "def temperaturefun(tcout, params, fun_out=False):\n",
    "    tcin, tr, acoil, u, qr = params\n",
    "\n",
    "    dtin = tr - tcin\n",
    "    dtout = tr - tcout\n",
    "    dtml = (dtin-dtout)/np.log(dtin/dtout)\n",
    "    qcal = u * acoil * dtml\n",
    "    if fun_out:\n",
    "        return dtml\n",
    "    else:\n",
    "        return abs(qcal - qr)"
   ]
  },
  {
   "cell_type": "code",
   "execution_count": 3,
   "id": "sunset-bernard",
   "metadata": {},
   "outputs": [],
   "source": [
    "Tcin = 343                 # K\n",
    "U = 100                    # W/m^2-K\n",
    "Cpj = 4183                  # J/kg-K\n",
    "Dcoil = 0.015875           # m\n",
    "\n",
    "Tr = 163 + 273.15           # K\n",
    "Vr = 5.825132               # m^3\n",
    "Qr = 1.1687e7/3600*4.1868   # J/s"
   ]
  },
  {
   "cell_type": "markdown",
   "id": "challenging-grace",
   "metadata": {},
   "source": [
    "# Internal coil diameter"
   ]
  },
  {
   "cell_type": "code",
   "execution_count": 4,
   "id": "flush-lawyer",
   "metadata": {},
   "outputs": [],
   "source": [
    "dguess = (2 * Vr / np.pi)**0.333\n",
    "\n",
    "parameters = [Vr, Dcoil]\n",
    "Dr = fsolve(lambda x: diameterfun(x, parameters), dguess)"
   ]
  },
  {
   "cell_type": "code",
   "execution_count": 5,
   "id": "fossil-aaron",
   "metadata": {},
   "outputs": [],
   "source": [
    "[Lcoil, Nloops, Vtot, Vcoil] = diameterfun(Dr[0], parameters, fun_out=True)\n",
    "Acoil = np.pi*Dcoil*Lcoil"
   ]
  },
  {
   "cell_type": "code",
   "execution_count": 6,
   "id": "associate-venue",
   "metadata": {},
   "outputs": [
    {
     "name": "stdout",
     "output_type": "stream",
     "text": [
      "Reactor size parameters including coil heat exchanger:\n",
      "Reactor diameter: 1.55 m\n",
      "Reactor volume: 6.0 m\n",
      "\n",
      "\n",
      "Coil heat exchanger parameters:\n",
      "Transfer area: 19.09 m^2\n",
      "Number of loops: 98\n",
      "Coil volume: 0.08 m^3\n",
      "Coil length: 382.87 m\n"
     ]
    }
   ],
   "source": [
    "print('Reactor size parameters including coil heat exchanger:')\n",
    "print('Reactor diameter: {:1.2f} m'.format(Dr[0]))\n",
    "print('Reactor volume: {:1.1f} m'.format(math.ceil(Vtot)))\n",
    "print('\\n')\n",
    "\n",
    "print('Coil heat exchanger parameters:')\n",
    "print('Transfer area: {:1.2f} m^2'.format(Acoil))\n",
    "print('Number of loops: {:1.0f}'.format(Nloops))\n",
    "print('Coil volume: {:1.2f} m^3'.format(Vcoil))\n",
    "print('Coil length: {:1.2f} m'.format(Lcoil))"
   ]
  },
  {
   "cell_type": "markdown",
   "id": "floral-premiere",
   "metadata": {},
   "source": [
    "# Output temperature of the heat-exchanger fluid"
   ]
  },
  {
   "cell_type": "code",
   "execution_count": 10,
   "id": "virgin-thumb",
   "metadata": {},
   "outputs": [
    {
     "name": "stderr",
     "output_type": "stream",
     "text": [
      "<ipython-input-2-18c06708941c>:19: RuntimeWarning: invalid value encountered in log\n",
      "  dtml = (dtin-dtout)/np.log(dtin/dtout)\n"
     ]
    }
   ],
   "source": [
    "Tcout = 0.9*Tr\n",
    "\n",
    "parameters = [Tcin, Tr, Acoil, U, Qr]\n",
    "Tcout = fsolve(lambda x: temperaturefun(x, parameters), Tcout)\n",
    "\n",
    "Fcoil = Qr/(Cpj*(Tcout[0]-Tcin))\n",
    "Fcoil = Fcoil/0.001\n",
    "\n",
    "DTLM = temperaturefun(Tcout[0], parameters, fun_out=True)"
   ]
  },
  {
   "cell_type": "code",
   "execution_count": 8,
   "id": "powered-birthday",
   "metadata": {},
   "outputs": [
    {
     "name": "stdout",
     "output_type": "stream",
     "text": [
      "Cooling fluid parameters:\n"
     ]
    },
    {
     "ename": "TypeError",
     "evalue": "unsupported format string passed to numpy.ndarray.__format__",
     "output_type": "error",
     "traceback": [
      "\u001b[0;31m---------------------------------------------------------------------------\u001b[0m",
      "\u001b[0;31mTypeError\u001b[0m                                 Traceback (most recent call last)",
      "\u001b[0;32m<ipython-input-8-f9408353a6fc>\u001b[0m in \u001b[0;36m<module>\u001b[0;34m\u001b[0m\n\u001b[1;32m      1\u001b[0m \u001b[0mprint\u001b[0m\u001b[0;34m(\u001b[0m\u001b[0;34m'Cooling fluid parameters:'\u001b[0m\u001b[0;34m)\u001b[0m\u001b[0;34m\u001b[0m\u001b[0;34m\u001b[0m\u001b[0m\n\u001b[0;32m----> 2\u001b[0;31m \u001b[0mprint\u001b[0m\u001b[0;34m(\u001b[0m\u001b[0;34m'Exit temperature : {:1.2f} K'\u001b[0m\u001b[0;34m.\u001b[0m\u001b[0mformat\u001b[0m\u001b[0;34m(\u001b[0m\u001b[0mTcout\u001b[0m\u001b[0;34m)\u001b[0m\u001b[0;34m)\u001b[0m\u001b[0;34m\u001b[0m\u001b[0;34m\u001b[0m\u001b[0m\n\u001b[0m\u001b[1;32m      3\u001b[0m \u001b[0mprint\u001b[0m\u001b[0;34m(\u001b[0m\u001b[0;34m'Log-mean temperature difference : {:1.2f} K'\u001b[0m\u001b[0;34m.\u001b[0m\u001b[0mformat\u001b[0m\u001b[0;34m(\u001b[0m\u001b[0mDTLM\u001b[0m\u001b[0;34m)\u001b[0m\u001b[0;34m)\u001b[0m\u001b[0;34m\u001b[0m\u001b[0;34m\u001b[0m\u001b[0m\n\u001b[1;32m      4\u001b[0m \u001b[0mprint\u001b[0m\u001b[0;34m(\u001b[0m\u001b[0;34m'Coolant flowrate : {:1.2f} cm^3/s'\u001b[0m\u001b[0;34m.\u001b[0m\u001b[0mformat\u001b[0m\u001b[0;34m(\u001b[0m\u001b[0mFcoil\u001b[0m\u001b[0;34m)\u001b[0m\u001b[0;34m)\u001b[0m\u001b[0;34m\u001b[0m\u001b[0;34m\u001b[0m\u001b[0m\n",
      "\u001b[0;31mTypeError\u001b[0m: unsupported format string passed to numpy.ndarray.__format__"
     ]
    }
   ],
   "source": [
    "print('Cooling fluid parameters:')\n",
    "print('Exit temperature : {:1.2f} K'.format(Tcout))\n",
    "print('Log-mean temperature difference : {:1.2f} K'.format(DTLM))\n",
    "print('Coolant flowrate : {:1.2f} cm^3/s'.format(Fcoil))"
   ]
  }
 ],
 "metadata": {
  "kernelspec": {
   "display_name": "Python [conda env:tensorflow]",
   "language": "python",
   "name": "conda-env-tensorflow-py"
  },
  "language_info": {
   "codemirror_mode": {
    "name": "ipython",
    "version": 3
   },
   "file_extension": ".py",
   "mimetype": "text/x-python",
   "name": "python",
   "nbconvert_exporter": "python",
   "pygments_lexer": "ipython3",
   "version": "3.8.5"
  },
  "toc": {
   "base_numbering": 1,
   "nav_menu": {},
   "number_sections": true,
   "sideBar": true,
   "skip_h1_title": true,
   "title_cell": "Table of Contents",
   "title_sidebar": "Contents",
   "toc_cell": false,
   "toc_position": {},
   "toc_section_display": true,
   "toc_window_display": false
  }
 },
 "nbformat": 4,
 "nbformat_minor": 5
}
