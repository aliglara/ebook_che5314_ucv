{
 "cells": [
  {
   "cell_type": "code",
   "execution_count": 1,
   "id": "secondary-ghost",
   "metadata": {},
   "outputs": [],
   "source": [
    "from sympy import *\n",
    "init_printing(use_unicode=True)"
   ]
  },
  {
   "cell_type": "markdown",
   "id": "beneficial-compiler",
   "metadata": {},
   "source": [
    "# Kinetic Model\n",
    "\n",
    "Defining symbolic variables and functions objects"
   ]
  },
  {
   "cell_type": "code",
   "execution_count": 2,
   "id": "positive-shark",
   "metadata": {},
   "outputs": [],
   "source": [
    "T, k10, k20, R, Ea1, Ea2, x, Cao = symbols('T k10 k20 R Ea1 Ea2 x Cao', positive=True, real=True)\n",
    "k1, k2, Ca, Cb, r, Xopt , ropt = symbols('k1 k2 Ca Cb r Xopt ropt', cls=Function)"
   ]
  },
  {
   "cell_type": "markdown",
   "id": "latter-channel",
   "metadata": {},
   "source": [
    "Kinetic expressions"
   ]
  },
  {
   "cell_type": "code",
   "execution_count": 3,
   "id": "threatened-makeup",
   "metadata": {},
   "outputs": [],
   "source": [
    "eq1 = Eq(k1(T), k10 * exp(-Ea1/(R*T)))\n",
    "eq2 = Eq(k2(T), k20 * exp(-Ea2/(R*T)))"
   ]
  },
  {
   "cell_type": "code",
   "execution_count": 4,
   "id": "useful-liberal",
   "metadata": {},
   "outputs": [],
   "source": [
    "eq3 = Eq(Ca(x), Cao * (1 - x))\n",
    "eq4 = Eq(Cb(x), Cao * x)"
   ]
  },
  {
   "cell_type": "markdown",
   "id": "going-parameter",
   "metadata": {},
   "source": [
    "Global reaction rate for the reversible reaction"
   ]
  },
  {
   "cell_type": "code",
   "execution_count": 5,
   "id": "played-satellite",
   "metadata": {},
   "outputs": [],
   "source": [
    "global_rate = Eq(r(T,x), k1(T) * Ca(x) - k2(T) * Cb(x))"
   ]
  },
  {
   "cell_type": "code",
   "execution_count": 6,
   "id": "trained-dealer",
   "metadata": {},
   "outputs": [
    {
     "data": {
      "image/png": "[encoded data removed]",
      "text/latex": [
       "$\\displaystyle r{\\left(T,x \\right)} = \\operatorname{Ca}{\\left(x \\right)} \\operatorname{k_{1}}{\\left(T \\right)} - \\operatorname{Cb}{\\left(x \\right)} \\operatorname{k_{2}}{\\left(T \\right)}$"
      ],
      "text/plain": [
       "r(T, x) = Ca(x)⋅k₁(T) - Cb(x)⋅k₂(T)"
      ]
     },
     "execution_count": 6,
     "metadata": {},
     "output_type": "execute_result"
    }
   ],
   "source": [
    "global_rate"
   ]
  },
  {
   "cell_type": "markdown",
   "id": "grateful-juvenile",
   "metadata": {},
   "source": [
    "Let's put all together"
   ]
  },
  {
   "cell_type": "code",
   "execution_count": 7,
   "id": "allied-enclosure",
   "metadata": {},
   "outputs": [],
   "source": [
    "eq5=global_rate.subs({eq1.lhs:eq1.rhs, eq2.lhs:eq2.rhs,\n",
    "                 eq3.lhs:eq3.rhs, eq4.lhs:eq4.rhs})"
   ]
  },
  {
   "cell_type": "code",
   "execution_count": 8,
   "id": "greatest-showcase",
   "metadata": {},
   "outputs": [
    {
     "data": {
      "image/png": "[encoded data removed]",
      "text/latex": [
       "$\\displaystyle r{\\left(T,x \\right)} = Cao k_{10} \\left(1 - x\\right) e^{- \\frac{Ea_{1}}{R T}} - Cao k_{20} x e^{- \\frac{Ea_{2}}{R T}}$"
      ],
      "text/plain": [
       "                           -Ea₁               -Ea₂ \n",
       "                           ─────              ─────\n",
       "                            R⋅T                R⋅T \n",
       "r(T, x) = Cao⋅k₁₀⋅(1 - x)⋅ℯ      - Cao⋅k₂₀⋅x⋅ℯ     "
      ]
     },
     "execution_count": 8,
     "metadata": {},
     "output_type": "execute_result"
    }
   ],
   "source": [
    "eq5"
   ]
  },
  {
   "cell_type": "markdown",
   "id": "aging-czech",
   "metadata": {},
   "source": [
    "# Optimal fractional conversion\n",
    "\n",
    "The above equation is derived to T, keeping the conversion constant to determine the maximum velocity value."
   ]
  },
  {
   "cell_type": "code",
   "execution_count": 9,
   "id": "strategic-alliance",
   "metadata": {
    "scrolled": true
   },
   "outputs": [],
   "source": [
    "eq6 = Eq(Derivative(eq5.lhs, T), Derivative(eq5.rhs, T).doit())"
   ]
  },
  {
   "cell_type": "code",
   "execution_count": 10,
   "id": "editorial-checkout",
   "metadata": {},
   "outputs": [
    {
     "data": {
      "image/png": "[encoded data removed]",
      "text/latex": [
       "$\\displaystyle \\frac{\\partial}{\\partial T} r{\\left(T,x \\right)} = \\frac{Cao Ea_{1} k_{10} \\left(1 - x\\right) e^{- \\frac{Ea_{1}}{R T}}}{R T^{2}} - \\frac{Cao Ea_{2} k_{20} x e^{- \\frac{Ea_{2}}{R T}}}{R T^{2}}$"
      ],
      "text/plain": [
       "                                   -Ea₁                   -Ea₂ \n",
       "                                   ─────                  ─────\n",
       "                                    R⋅T                    R⋅T \n",
       "∂             Cao⋅Ea₁⋅k₁₀⋅(1 - x)⋅ℯ        Cao⋅Ea₂⋅k₂₀⋅x⋅ℯ     \n",
       "──(r(T, x)) = ────────────────────────── - ────────────────────\n",
       "∂T                          2                         2        \n",
       "                         R⋅T                       R⋅T         "
      ]
     },
     "execution_count": 10,
     "metadata": {},
     "output_type": "execute_result"
    }
   ],
   "source": [
    "eq6"
   ]
  },
  {
   "cell_type": "markdown",
   "id": "third-marriage",
   "metadata": {},
   "source": [
    "Finding the optimal X value"
   ]
  },
  {
   "cell_type": "code",
   "execution_count": 11,
   "id": "common-institution",
   "metadata": {},
   "outputs": [],
   "source": [
    "eq7 = Eq(Xopt(T), solve(eq6.rhs, x)[0])"
   ]
  },
  {
   "cell_type": "code",
   "execution_count": 12,
   "id": "corresponding-experiment",
   "metadata": {},
   "outputs": [
    {
     "data": {
      "image/png": "[encoded data removed]",
      "text/latex": [
       "$\\displaystyle \\operatorname{Xopt}{\\left(T \\right)} = \\frac{Ea_{1} k_{10} e^{\\frac{Ea_{2}}{R T}}}{Ea_{1} k_{10} e^{\\frac{Ea_{2}}{R T}} + Ea_{2} k_{20} e^{\\frac{Ea_{1}}{R T}}}$"
      ],
      "text/plain": [
       "                           Ea₂       \n",
       "                           ───       \n",
       "                           R⋅T       \n",
       "                  Ea₁⋅k₁₀⋅ℯ          \n",
       "Xopt(T) = ───────────────────────────\n",
       "                   Ea₂            Ea₁\n",
       "                   ───            ───\n",
       "                   R⋅T            R⋅T\n",
       "          Ea₁⋅k₁₀⋅ℯ    + Ea₂⋅k₂₀⋅ℯ   "
      ]
     },
     "execution_count": 12,
     "metadata": {},
     "output_type": "execute_result"
    }
   ],
   "source": [
    "eq7"
   ]
  },
  {
   "cell_type": "markdown",
   "id": "geographic-apparel",
   "metadata": {},
   "source": [
    "# Finding the maximum reaction rate\n",
    "\n",
    "Substituting Eq7 to Eq5, we will get the maximum reaction rate expression"
   ]
  },
  {
   "cell_type": "code",
   "execution_count": 13,
   "id": "subtle-introduction",
   "metadata": {},
   "outputs": [],
   "source": [
    "eq8 = Eq(ropt(T), simplify(eq5.rhs.subs(x, eq7.rhs)))"
   ]
  },
  {
   "cell_type": "code",
   "execution_count": 14,
   "id": "lasting-martial",
   "metadata": {},
   "outputs": [
    {
     "data": {
      "image/png": "[encoded data removed]",
      "text/latex": [
       "$\\displaystyle \\operatorname{ropt}{\\left(T \\right)} = \\frac{Cao k_{10} k_{20} \\left(- Ea_{1} + Ea_{2}\\right)}{Ea_{1} k_{10} e^{\\frac{Ea_{2}}{R T}} + Ea_{2} k_{20} e^{\\frac{Ea_{1}}{R T}}}$"
      ],
      "text/plain": [
       "            Cao⋅k₁₀⋅k₂₀⋅(-Ea₁ + Ea₂) \n",
       "ropt(T) = ───────────────────────────\n",
       "                   Ea₂            Ea₁\n",
       "                   ───            ───\n",
       "                   R⋅T            R⋅T\n",
       "          Ea₁⋅k₁₀⋅ℯ    + Ea₂⋅k₂₀⋅ℯ   "
      ]
     },
     "execution_count": 14,
     "metadata": {},
     "output_type": "execute_result"
    }
   ],
   "source": [
    "eq8"
   ]
  },
  {
   "cell_type": "markdown",
   "id": "entitled-punch",
   "metadata": {},
   "source": [
    "It is possible to simplify more the last equation including the definition of Chemical equilibrium constant"
   ]
  }
 ],
 "metadata": {
  "kernelspec": {
   "display_name": "Python 3",
   "language": "python",
   "name": "python3"
  },
  "language_info": {
   "codemirror_mode": {
    "name": "ipython",
    "version": 3
   },
   "file_extension": ".py",
   "mimetype": "text/x-python",
   "name": "python",
   "nbconvert_exporter": "python",
   "pygments_lexer": "ipython3",
   "version": "3.8.5"
  },
  "varInspector": {
   "cols": {
    "lenName": 16,
    "lenType": 16,
    "lenVar": 40
   },
   "kernels_config": {
    "python": {
     "delete_cmd_postfix": "",
     "delete_cmd_prefix": "del ",
     "library": "var_list.py",
     "varRefreshCmd": "print(var_dic_list())"
    },
    "r": {
     "delete_cmd_postfix": ") ",
     "delete_cmd_prefix": "rm(",
     "library": "var_list.r",
     "varRefreshCmd": "cat(var_dic_list()) "
    }
   },
   "types_to_exclude": [
    "module",
    "function",
    "builtin_function_or_method",
    "instance",
    "_Feature"
   ],
   "window_display": false
  }
 },
 "nbformat": 4,
 "nbformat_minor": 5
}
