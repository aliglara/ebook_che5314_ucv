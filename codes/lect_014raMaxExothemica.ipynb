{
 "cells": [
  {
   "cell_type": "code",
   "execution_count": 1,
   "id": "finnish-knitting",
   "metadata": {},
   "outputs": [],
   "source": [
    "from sympy import *"
   ]
  },
  {
   "cell_type": "code",
   "execution_count": 2,
   "id": "military-satellite",
   "metadata": {},
   "outputs": [],
   "source": [
    "init_printing(use_latex=True)"
   ]
  },
  {
   "cell_type": "code",
   "execution_count": 3,
   "id": "streaming-reverse",
   "metadata": {},
   "outputs": [],
   "source": [
    "T, k10, E1, R, k20, E2, Te, \\\n",
    "Ca, Cb, Cp, Cq, Topt = symbols('T k10 E1 R k20 E2 Te Ca Cb Cp Cq Topt', \n",
    "                         positive=True, real=True)\n",
    "k1, k2, r = symbols('k1 k2 r', cls=Function)"
   ]
  },
  {
   "cell_type": "markdown",
   "id": "entertaining-administrator",
   "metadata": {},
   "source": [
    "# Kinetic model"
   ]
  },
  {
   "cell_type": "markdown",
   "id": "violent-violation",
   "metadata": {},
   "source": [
    "## Kinetic constants"
   ]
  },
  {
   "cell_type": "code",
   "execution_count": 4,
   "id": "binary-causing",
   "metadata": {},
   "outputs": [],
   "source": [
    "eq02 = Eq(k1(T), k10*exp(-E1/R/T))\n",
    "eq03 = Eq(k2(T), k20*exp(-E2/R/T))"
   ]
  },
  {
   "cell_type": "markdown",
   "id": "classified-subdivision",
   "metadata": {},
   "source": [
    "## Global reaction rate"
   ]
  },
  {
   "cell_type": "code",
   "execution_count": 5,
   "id": "blocked-demographic",
   "metadata": {},
   "outputs": [],
   "source": [
    "eq01 = Eq(r(T), k1(T) * Ca * Cb - k2(T) * Cp * Cq)"
   ]
  },
  {
   "cell_type": "code",
   "execution_count": 6,
   "id": "parliamentary-fields",
   "metadata": {},
   "outputs": [
    {
     "data": {
      "image/png": "[encoded data removed]",
      "text/latex": [
       "$\\displaystyle r{\\left(T \\right)} = Ca Cb \\operatorname{k_{1}}{\\left(T \\right)} - Cp Cq \\operatorname{k_{2}}{\\left(T \\right)}$"
      ],
      "text/plain": [
       "r(T) = Ca⋅Cb⋅k₁(T) - Cp⋅Cq⋅k₂(T)"
      ]
     },
     "execution_count": 6,
     "metadata": {},
     "output_type": "execute_result"
    }
   ],
   "source": [
    "eq01"
   ]
  },
  {
   "cell_type": "code",
   "execution_count": 7,
   "id": "outer-review",
   "metadata": {},
   "outputs": [],
   "source": [
    "eq06= Eq(eq01.lhs, eq01.rhs.subs({eq02.lhs:eq02.rhs,\n",
    "                                 eq03.lhs:eq03.rhs}))"
   ]
  },
  {
   "cell_type": "code",
   "execution_count": 8,
   "id": "cathedral-license",
   "metadata": {},
   "outputs": [
    {
     "data": {
      "image/png": "[encoded data removed]",
      "text/latex": [
       "$\\displaystyle r{\\left(T \\right)} = Ca Cb k_{10} e^{- \\frac{E_{1}}{R T}} - Cp Cq k_{20} e^{- \\frac{E_{2}}{R T}}$"
      ],
      "text/plain": [
       "                  -E₁               -E₂ \n",
       "                  ────              ────\n",
       "                  R⋅T               R⋅T \n",
       "r(T) = Ca⋅Cb⋅k₁₀⋅ℯ     - Cp⋅Cq⋅k₂₀⋅ℯ    "
      ]
     },
     "execution_count": 8,
     "metadata": {},
     "output_type": "execute_result"
    }
   ],
   "source": [
    "eq06"
   ]
  },
  {
   "cell_type": "markdown",
   "id": "brief-lightning",
   "metadata": {},
   "source": [
    "# Finding maximum reaction rate\n",
    "\n",
    "The reaction rate is a function of conversion because the concentrations are, and the reaction temperature. However, as we need to find the temperature value that causes the maximum reaction rate, we should derive the Eq 06 with T while the conversion is kept constant."
   ]
  },
  {
   "cell_type": "code",
   "execution_count": 9,
   "id": "standard-checklist",
   "metadata": {},
   "outputs": [],
   "source": [
    "eq07 = Eq(Derivative(eq06.lhs, T), Derivative(eq06.rhs, T).doit())"
   ]
  },
  {
   "cell_type": "code",
   "execution_count": 10,
   "id": "chicken-appendix",
   "metadata": {},
   "outputs": [
    {
     "data": {
      "image/png": "[encoded data removed]",
      "text/latex": [
       "$\\displaystyle \\frac{d}{d T} r{\\left(T \\right)} = \\frac{Ca Cb E_{1} k_{10} e^{- \\frac{E_{1}}{R T}}}{R T^{2}} - \\frac{Cp Cq E_{2} k_{20} e^{- \\frac{E_{2}}{R T}}}{R T^{2}}$"
      ],
      "text/plain": [
       "                         -E₁                  -E₂ \n",
       "                         ────                 ────\n",
       "                         R⋅T                  R⋅T \n",
       "d          Ca⋅Cb⋅E₁⋅k₁₀⋅ℯ       Cp⋅Cq⋅E₂⋅k₂₀⋅ℯ    \n",
       "──(r(T)) = ────────────────── - ──────────────────\n",
       "dT                   2                    2       \n",
       "                  R⋅T                  R⋅T        "
      ]
     },
     "execution_count": 10,
     "metadata": {},
     "output_type": "execute_result"
    }
   ],
   "source": [
    "eq07"
   ]
  },
  {
   "cell_type": "code",
   "execution_count": 11,
   "id": "liable-surveillance",
   "metadata": {},
   "outputs": [],
   "source": [
    "eq08 = Eq(Topt, solve(eq07.rhs, T)[0])"
   ]
  },
  {
   "cell_type": "code",
   "execution_count": 12,
   "id": "broad-arabic",
   "metadata": {},
   "outputs": [
    {
     "data": {
      "image/png": "[encoded data removed]",
      "text/latex": [
       "$\\displaystyle Topt = \\frac{- E_{1} + E_{2}}{R \\log{\\left(\\frac{Cp Cq E_{2} k_{20}}{Ca Cb E_{1} k_{10}} \\right)}}$"
      ],
      "text/plain": [
       "             -E₁ + E₂     \n",
       "Topt = ───────────────────\n",
       "            ⎛Cp⋅Cq⋅E₂⋅k₂₀⎞\n",
       "       R⋅log⎜────────────⎟\n",
       "            ⎝Ca⋅Cb⋅E₁⋅k₁₀⎠"
      ]
     },
     "execution_count": 12,
     "metadata": {},
     "output_type": "execute_result"
    }
   ],
   "source": [
    "eq08"
   ]
  },
  {
   "cell_type": "markdown",
   "id": "bound-secretariat",
   "metadata": {},
   "source": [
    "At the chemical equilibrium eq6 = 0, then\n",
    "\n",
    "\\begin{equation*}\n",
    "\\frac{Cp\\,Cq}{Ca\\,Cb} \\frac{k_{20}}{k_{10}} = \\exp\\left(\\frac{E_2 - E_1}{R\\,Te}\\right)\n",
    "\\end{equation*}\n",
    "\n",
    "where $Te$ is the temperature at the chemical equilibrium"
   ]
  },
  {
   "cell_type": "code",
   "execution_count": 13,
   "id": "incorporated-pantyhose",
   "metadata": {},
   "outputs": [],
   "source": [
    "eq09 = Eq(Topt, eq08.rhs.subs((Cp*Cq*k20)/(Ca*Cb*k10), exp((E2 - E1)/R/Te)).simplify())"
   ]
  },
  {
   "cell_type": "code",
   "execution_count": 14,
   "id": "thrown-vintage",
   "metadata": {},
   "outputs": [
    {
     "data": {
      "image/png": "[encoded data removed]",
      "text/latex": [
       "$\\displaystyle Topt = \\frac{- E_{1} + E_{2}}{R \\left(- \\log{\\left(E_{1} \\right)} + \\log{\\left(E_{2} \\right)} + \\frac{- E_{1} + E_{2}}{R Te}\\right)}$"
      ],
      "text/plain": [
       "                    -E₁ + E₂            \n",
       "Topt = ─────────────────────────────────\n",
       "         ⎛                     -E₁ + E₂⎞\n",
       "       R⋅⎜-log(E₁) + log(E₂) + ────────⎟\n",
       "         ⎝                       R⋅Te  ⎠"
      ]
     },
     "execution_count": 14,
     "metadata": {},
     "output_type": "execute_result"
    }
   ],
   "source": [
    "eq09"
   ]
  },
  {
   "cell_type": "code",
   "execution_count": 15,
   "id": "induced-clear",
   "metadata": {},
   "outputs": [],
   "source": [
    "eq10 = Eq(Topt/Te, simplify(eq09.rhs/Te))"
   ]
  },
  {
   "cell_type": "code",
   "execution_count": 16,
   "id": "miniature-knock",
   "metadata": {},
   "outputs": [
    {
     "data": {
      "image/png": "[encoded data removed]",
      "text/latex": [
       "$\\displaystyle \\frac{Topt}{Te} = \\frac{E_{1} - E_{2}}{E_{1} - E_{2} + \\log{\\left(\\left(\\frac{E_{1}}{E_{2}}\\right)^{R Te} \\right)}}$"
      ],
      "text/plain": [
       "Topt           E₁ - E₂        \n",
       "──── = ───────────────────────\n",
       " Te                 ⎛    R⋅Te⎞\n",
       "                    ⎜⎛E₁⎞    ⎟\n",
       "       E₁ - E₂ + log⎜⎜──⎟    ⎟\n",
       "                    ⎝⎝E₂⎠    ⎠"
      ]
     },
     "execution_count": 16,
     "metadata": {},
     "output_type": "execute_result"
    }
   ],
   "source": [
    "eq10"
   ]
  },
  {
   "cell_type": "code",
   "execution_count": null,
   "id": "dried-latitude",
   "metadata": {},
   "outputs": [],
   "source": []
  }
 ],
 "metadata": {
  "kernelspec": {
   "display_name": "Python 3",
   "language": "python",
   "name": "python3"
  },
  "language_info": {
   "codemirror_mode": {
    "name": "ipython",
    "version": 3
   },
   "file_extension": ".py",
   "mimetype": "text/x-python",
   "name": "python",
   "nbconvert_exporter": "python",
   "pygments_lexer": "ipython3",
   "version": "3.8.5"
  },
  "varInspector": {
   "cols": {
    "lenName": 16,
    "lenType": 16,
    "lenVar": 40
   },
   "kernels_config": {
    "python": {
     "delete_cmd_postfix": "",
     "delete_cmd_prefix": "del ",
     "library": "var_list.py",
     "varRefreshCmd": "print(var_dic_list())"
    },
    "r": {
     "delete_cmd_postfix": ") ",
     "delete_cmd_prefix": "rm(",
     "library": "var_list.r",
     "varRefreshCmd": "cat(var_dic_list()) "
    }
   },
   "types_to_exclude": [
    "module",
    "function",
    "builtin_function_or_method",
    "instance",
    "_Feature"
   ],
   "window_display": false
  }
 },
 "nbformat": 4,
 "nbformat_minor": 5
}
