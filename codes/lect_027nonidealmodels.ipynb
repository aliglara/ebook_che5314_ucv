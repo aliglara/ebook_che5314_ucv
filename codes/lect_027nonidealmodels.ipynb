{
 "cells": [
  {
   "cell_type": "code",
   "execution_count": 1,
   "id": "1e800754",
   "metadata": {},
   "outputs": [],
   "source": [
    "#####################################################\n",
    "#\n",
    "# Problema para el calculo de las conversion en base a RTD\n",
    "#\n",
    "# Realizado por\n",
    "# Ali Gabriel Lara\n",
    "#\n",
    "# Fecha: Mayo 2014\n",
    "# Revision: Ninguna\n",
    "#\n",
    "#"
   ]
  },
  {
   "cell_type": "code",
   "execution_count": 2,
   "id": "5cea0b4c",
   "metadata": {},
   "outputs": [],
   "source": [
    "import numpy as np\n",
    "import math\n",
    "from scipy.integrate import trapezoid\n",
    "from scipy.optimize import root"
   ]
  },
  {
   "cell_type": "markdown",
   "id": "071654b9",
   "metadata": {},
   "source": [
    "# Data"
   ]
  },
  {
   "cell_type": "code",
   "execution_count": 3,
   "id": "fc8990d1",
   "metadata": {},
   "outputs": [],
   "source": [
    "c = np.array([1, 5, 8, 10, 8, 6, 4, 3, 2.2, 1.5, 0.6, 0]) # Concentration, g/m^3\n",
    "t = np.array([1, 2, 3, 4, 5, 6, 7, 8, 9, 10, 12, 14])     # time, min"
   ]
  },
  {
   "cell_type": "markdown",
   "id": "37cdeb1c",
   "metadata": {},
   "source": [
    "# Solution"
   ]
  },
  {
   "cell_type": "code",
   "execution_count": 4,
   "id": "5f5ecf98",
   "metadata": {},
   "outputs": [],
   "source": [
    "def funcionPe(pe_value):\n",
    "    return var/tmean**2 - (2/pe_value - 2/pe_value**2*(1-np.exp(-pe_value))) "
   ]
  },
  {
   "cell_type": "markdown",
   "id": "bb593250",
   "metadata": {},
   "source": [
    "## Part A. Using dispersion Model\n",
    "\n",
    "### RTD Calculation"
   ]
  },
  {
   "cell_type": "code",
   "execution_count": 5,
   "id": "689af1dc",
   "metadata": {},
   "outputs": [],
   "source": [
    "E = c/trapezoid(c, t)                    # E curve\n",
    "tmean = trapezoid(t*E, t)                # mean residence time\n",
    "var = trapezoid(t**2*E, t) - tmean**2    # variance"
   ]
  },
  {
   "cell_type": "markdown",
   "id": "a00d3ba6",
   "metadata": {},
   "source": [
    "### Pe number calculation"
   ]
  },
  {
   "cell_type": "code",
   "execution_count": 6,
   "id": "7280e8a6",
   "metadata": {},
   "outputs": [
    {
     "name": "stdout",
     "output_type": "stream",
     "text": [
      "The final conversion based on the dispersion model is 68.258%\n"
     ]
    }
   ],
   "source": [
    "Pe = root(funcionPe, 1).x[0]                 # Pe Number\n",
    "beta = np.sqrt(1+4*0.25*tmean/Pe)\n",
    "\n",
    "convA = (1 - 4*beta/((1+beta)**2*np.exp(-Pe*(1-beta)/2)-\n",
    "                     (1-beta)**2*np.exp(-Pe*(1+beta)/2)))\n",
    "\n",
    "print('The final conversion based on the dispersion model is {:.3f}%'.format(\n",
    "convA*100))"
   ]
  },
  {
   "cell_type": "markdown",
   "id": "0954f453",
   "metadata": {},
   "source": [
    "## Part B. Using Tanks-in-Serie model"
   ]
  },
  {
   "cell_type": "code",
   "execution_count": 7,
   "id": "179a7154",
   "metadata": {},
   "outputs": [
    {
     "name": "stdout",
     "output_type": "stream",
     "text": [
      "The final conversion based on the TIS model is 68.314%\n"
     ]
    }
   ],
   "source": [
    "## Parte B\n",
    "#\n",
    "# Numero de reactores\n",
    "N = math.ceil(tmean**2/var) \n",
    "convB = 1 - 1/(1+0.25*tmean/N)**N\n",
    "\n",
    "print('The final conversion based on the TIS model is {:.3f}%'.format(\n",
    "convB*100))"
   ]
  },
  {
   "cell_type": "markdown",
   "id": "f3a55f4b",
   "metadata": {},
   "source": [
    "## Part C. Using ideal-PFR model"
   ]
  },
  {
   "cell_type": "code",
   "execution_count": 8,
   "id": "1170cc8c",
   "metadata": {},
   "outputs": [
    {
     "name": "stdout",
     "output_type": "stream",
     "text": [
      "The final conversion based on the ideal PFR model is 72.531%\n"
     ]
    }
   ],
   "source": [
    "\n",
    "convC = 1 -np.exp(-0.25*tmean)\n",
    "\n",
    "print('The final conversion based on the ideal PFR model is {:.3f}%'.format(\n",
    "convC*100))"
   ]
  }
 ],
 "metadata": {
  "kernelspec": {
   "display_name": "Python 3",
   "language": "python",
   "name": "python3"
  },
  "language_info": {
   "codemirror_mode": {
    "name": "ipython",
    "version": 3
   },
   "file_extension": ".py",
   "mimetype": "text/x-python",
   "name": "python",
   "nbconvert_exporter": "python",
   "pygments_lexer": "ipython3",
   "version": "3.8.8"
  },
  "toc": {
   "base_numbering": 1,
   "nav_menu": {},
   "number_sections": true,
   "sideBar": true,
   "skip_h1_title": false,
   "title_cell": "Table of Contents",
   "title_sidebar": "Contents",
   "toc_cell": false,
   "toc_position": {},
   "toc_section_display": true,
   "toc_window_display": false
  },
  "varInspector": {
   "cols": {
    "lenName": 16,
    "lenType": 16,
    "lenVar": 40
   },
   "kernels_config": {
    "python": {
     "delete_cmd_postfix": "",
     "delete_cmd_prefix": "del ",
     "library": "var_list.py",
     "varRefreshCmd": "print(var_dic_list())"
    },
    "r": {
     "delete_cmd_postfix": ") ",
     "delete_cmd_prefix": "rm(",
     "library": "var_list.r",
     "varRefreshCmd": "cat(var_dic_list()) "
    }
   },
   "types_to_exclude": [
    "module",
    "function",
    "builtin_function_or_method",
    "instance",
    "_Feature"
   ],
   "window_display": false
  }
 },
 "nbformat": 4,
 "nbformat_minor": 5
}
